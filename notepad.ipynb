{
 "cells": [
  {
   "cell_type": "code",
   "execution_count": null,
   "id": "44be9738",
   "metadata": {},
   "outputs": [
    {
     "data": {
      "text/plain": [
       "4536.0"
      ]
     },
     "execution_count": 3,
     "metadata": {},
     "output_type": "execute_result"
    }
   ],
   "source": [
    "*/40"
   ]
  },
  {
   "cell_type": "code",
   "execution_count": 4,
   "id": "e533db82",
   "metadata": {},
   "outputs": [
    {
     "data": {
      "text/plain": [
       "26.828703703703702"
      ]
     },
     "execution_count": 4,
     "metadata": {},
     "output_type": "execute_result"
    }
   ],
   "source": [
    "11590*40/(48*60*6)"
   ]
  }
 ],
 "metadata": {
  "kernelspec": {
   "display_name": "ontology",
   "language": "python",
   "name": "python3"
  },
  "language_info": {
   "codemirror_mode": {
    "name": "ipython",
    "version": 3
   },
   "file_extension": ".py",
   "mimetype": "text/x-python",
   "name": "python",
   "nbconvert_exporter": "python",
   "pygments_lexer": "ipython3",
   "version": "3.10.18"
  }
 },
 "nbformat": 4,
 "nbformat_minor": 5
}
